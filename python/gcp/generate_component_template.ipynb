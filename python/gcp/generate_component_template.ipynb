{
 "cells": [
  {
   "cell_type": "code",
   "execution_count": 82,
   "metadata": {},
   "outputs": [],
   "source": [
    "schema = {\"openapi\":\"3.1.0\",\"info\":{\"title\":\"FastAPI\",\"version\":\"0.1.0\"},\"paths\":{\"/titles\":{\"get\":{\"summary\":\"Get Titles\",\"operationId\":\"get_titles_titles_get\",\"responses\":{\"200\":{\"description\":\"Successful Response\",\"content\":{\"application/json\":{\"schema\":{\"$ref\":\"#/components/schemas/GetTitlesReturn\"}}}}}}},\"/all_story_full_paths\":{\"get\":{\"summary\":\"Get All Story Full Paths\",\"operationId\":\"get_all_story_full_paths_all_story_full_paths_get\",\"responses\":{\"200\":{\"description\":\"Successful Response\",\"content\":{\"application/json\":{\"schema\":{\"$ref\":\"#/components/schemas/GetStoryFullPathsReturn\"}}}}}}},\"/story\":{\"post\":{\"summary\":\"Get Story\",\"operationId\":\"get_story_story_post\",\"requestBody\":{\"content\":{\"application/json\":{\"schema\":{\"$ref\":\"#/components/schemas/GetStoryInput\"}}},\"required\":True},\"responses\":{\"200\":{\"description\":\"Successful Response\",\"content\":{\"application/json\":{\"schema\":{\"$ref\":\"#/components/schemas/Story\"}}}},\"422\":{\"description\":\"Validation Error\",\"content\":{\"application/json\":{\"schema\":{\"$ref\":\"#/components/schemas/HTTPValidationError\"}}}}}}},\"/register_managers\":{\"get\":{\"summary\":\"Registor Managers\",\"operationId\":\"registor_managers_register_managers_get\",\"responses\":{\"200\":{\"description\":\"Successful Response\",\"content\":{\"application/json\":{\"schema\":{\"type\":\"string\",\"title\":\"Response Registor Managers Register Managers Get\"}}}}}}},\"/api-schema\":{\"get\":{\"summary\":\"Get Api Schema\",\"operationId\":\"get_api_schema_api_schema_get\",\"responses\":{\"200\":{\"description\":\"Successful Response\",\"content\":{\"application/json\":{\"schema\":{}}}}}}},\"/simple\":{\"post\":{\"summary\":\"With Default\",\"operationId\":\"with_default_simple_post\",\"requestBody\":{\"content\":{\"application/json\":{\"schema\":{\"$ref\":\"#/components/schemas/SimpleProps\"}}},\"required\":True},\"responses\":{\"200\":{\"description\":\"Successful Response\",\"content\":{\"application/json\":{\"schema\":{\"$ref\":\"#/components/schemas/SimpleOutProps\"}}}},\"422\":{\"description\":\"Validation Error\",\"content\":{\"application/json\":{\"schema\":{\"$ref\":\"#/components/schemas/HTTPValidationError\"}}}}}}}},\"components\":{\"schemas\":{\"GetStoryFullPathsReturn\":{\"properties\":{\"story_full_paths\":{\"items\":{\"type\":\"string\"},\"type\":\"array\",\"title\":\"Story Full Paths\"}},\"type\":\"object\",\"required\":[\"story_full_paths\"],\"title\":\"GetStoryFullPathsReturn\"},\"GetStoryInput\":{\"properties\":{\"story_full_paths\":{\"type\":\"string\",\"title\":\"Story Full Paths\"}},\"type\":\"object\",\"required\":[\"story_full_paths\"],\"title\":\"GetStoryInput\"},\"GetTitlesReturn\":{\"properties\":{\"titles\":{\"items\":{\"type\":\"string\"},\"type\":\"array\",\"title\":\"Titles\"}},\"type\":\"object\",\"required\":[\"titles\"],\"title\":\"GetTitlesReturn\"},\"HTTPValidationError\":{\"properties\":{\"detail\":{\"items\":{\"$ref\":\"#/components/schemas/ValidationError\"},\"type\":\"array\",\"title\":\"Detail\"}},\"type\":\"object\",\"title\":\"HTTPValidationError\"},\"SimpleOutProps\":{\"properties\":{\"output\":{\"type\":\"integer\",\"title\":\"Output\"}},\"type\":\"object\",\"required\":[\"output\"],\"title\":\"SimpleOutProps\"},\"SimpleProps\":{\"properties\":{\"arg1\":{\"type\":\"integer\",\"title\":\"Arg1\",\"default\":1},\"arg2\":{\"type\":\"integer\",\"title\":\"Arg2\",\"default\":2}},\"type\":\"object\",\"title\":\"SimpleProps\"},\"Story\":{\"properties\":{\"name\":{\"type\":\"string\",\"title\":\"Name\"},\"meta\":{\"anyOf\":[{\"type\":\"object\"},{\"type\":\"null\"}],\"title\":\"Meta\"},\"parent\":{\"type\":\"string\",\"title\":\"Parent\"},\"full_path\":{\"type\":\"string\",\"title\":\"Full Path\"},\"kwargs\":{\"anyOf\":[{\"type\":\"object\"},{\"type\":\"null\"}],\"title\":\"Kwargs\"},\"docs\":{\"anyOf\":[{\"type\":\"string\"},{\"type\":\"null\"}],\"title\":\"Docs\"},\"source\":{\"anyOf\":[{\"type\":\"string\"},{\"type\":\"null\"}],\"title\":\"Source\"},\"typehints\":{\"anyOf\":[{\"additionalProperties\":{\"type\":\"string\"},\"type\":\"object\"},{\"type\":\"null\"}],\"title\":\"Typehints\"}},\"type\":\"object\",\"required\":[\"name\",\"meta\",\"parent\",\"full_path\",\"kwargs\",\"docs\",\"source\",\"typehints\"],\"title\":\"Story\"},\"ValidationError\":{\"properties\":{\"loc\":{\"items\":{\"anyOf\":[{\"type\":\"string\"},{\"type\":\"integer\"}]},\"type\":\"array\",\"title\":\"Location\"},\"msg\":{\"type\":\"string\",\"title\":\"Message\"},\"type\":{\"type\":\"string\",\"title\":\"Error Type\"}},\"type\":\"object\",\"required\":[\"loc\",\"msg\",\"type\"],\"title\":\"ValidationError\"}}}}"
   ]
  },
  {
   "cell_type": "code",
   "execution_count": null,
   "metadata": {},
   "outputs": [],
   "source": [
    "schema"
   ]
  },
  {
   "cell_type": "code",
   "execution_count": null,
   "metadata": {},
   "outputs": [],
   "source": [
    "from python_storybook.core import StoryManager"
   ]
  },
  {
   "cell_type": "code",
   "execution_count": 83,
   "metadata": {},
   "outputs": [
    {
     "name": "stdout",
     "output_type": "stream",
     "text": [
      "getTitlesTitlesGet GetTitlesTitlesGet\n"
     ]
    }
   ],
   "source": [
    "from pydantic import BaseModel, create_model\n",
    "from typing import Optional\n",
    "\n",
    "import inflection\n",
    "\n",
    "snake_case = \"get_titles_titles_get\"\n",
    "camel_case = inflection.camelize(snake_case, False)  # 첫 글자를 소문자로 유지\n",
    "print(camel_case, inflection.camelize(snake_case, uppercase_first_letter=True))\n",
    "\n"
   ]
  },
  {
   "cell_type": "code",
   "execution_count": null,
   "metadata": {},
   "outputs": [],
   "source": [
    "paths = schema['paths']"
   ]
  },
  {
   "cell_type": "code",
   "execution_count": null,
   "metadata": {},
   "outputs": [],
   "source": [
    "paths['/story']['post']"
   ]
  },
  {
   "cell_type": "code",
   "execution_count": null,
   "metadata": {},
   "outputs": [],
   "source": [
    "[ \n",
    "    paths['/story']['post']['operationId'],\n",
    "    paths['/story']['post']['requestBody']['content']['application/json']['schema']['$ref'].split('/')[-1],\n",
    "    paths['/story']['post']['responses']['200']['content']['application/json']['schema']['$ref'].split('/')[-1]\n",
    "]"
   ]
  },
  {
   "cell_type": "code",
   "execution_count": null,
   "metadata": {},
   "outputs": [],
   "source": [
    "class FunctionDefinition(BaseModel):\n",
    "    func_name:str\n",
    "    input_props_name:Optional[str]\n",
    "    output_props_name:Optional[str]"
   ]
  },
  {
   "cell_type": "code",
   "execution_count": null,
   "metadata": {},
   "outputs": [],
   "source": []
  },
  {
   "cell_type": "code",
   "execution_count": null,
   "metadata": {},
   "outputs": [],
   "source": [
    "def extract_function_definition(json_data, path, request_type):\n",
    "    func_name = json_data['paths'][path][request_type]['operationId']\n",
    "    \n",
    "    try:\n",
    "        ref_request_body = json_data['paths'][path][request_type]['requestBody']['content']['application/json']['schema']['$ref']\n",
    "        input_props_name = ref_request_body.split('/')[-1]\n",
    "    except:\n",
    "        input_props_name = None\n",
    "    \n",
    "    try:\n",
    "        ref_response_body = json_data['paths'][path][request_type]['responses']['200']['content']['application/json']['schema']['$ref']\n",
    "        output_props_name = ref_response_body.split('/')[-1]\n",
    "    except:\n",
    "        output_props_name = None\n",
    "    \n",
    "    \n",
    "    \n",
    "    return FunctionDefinition(\n",
    "        func_name=inflection.camelize(func_name, False),\n",
    "        input_props_name=input_props_name,\n",
    "        output_props_name=output_props_name,\n",
    "    )"
   ]
  },
  {
   "cell_type": "code",
   "execution_count": null,
   "metadata": {},
   "outputs": [],
   "source": [
    "extract_function_definition(schema, '/story', 'post')"
   ]
  },
  {
   "cell_type": "code",
   "execution_count": null,
   "metadata": {},
   "outputs": [],
   "source": [
    "extract_function_definition(schema, '/titles', 'get')"
   ]
  },
  {
   "cell_type": "code",
   "execution_count": 84,
   "metadata": {},
   "outputs": [
    {
     "data": {
      "text/plain": [
       "['/titles',\n",
       " '/all_story_full_paths',\n",
       " '/story',\n",
       " '/register_managers',\n",
       " '/api-schema',\n",
       " '/simple']"
      ]
     },
     "execution_count": 84,
     "metadata": {},
     "output_type": "execute_result"
    }
   ],
   "source": [
    "route_names = list(schema['paths'].keys())\n",
    "route_names"
   ]
  },
  {
   "cell_type": "code",
   "execution_count": 85,
   "metadata": {},
   "outputs": [],
   "source": [
    "definitions = []\n",
    "\n",
    "for route_name in route_names:\n",
    "    for route_type in ['get', 'post']:\n",
    "        try:\n",
    "            definitions.append(extract_function_definition(schema, route_name, route_type))\n",
    "        except:\n",
    "            pass\n"
   ]
  },
  {
   "cell_type": "markdown",
   "metadata": {},
   "source": [
    "```tsx\n",
    "import React, { useState} from 'react'\n",
    "import { DefaultApi, Configuration, GetStoryInput, Story } from './ts-client';  // Adjust the path as necessary\n",
    "\n",
    "const apiConfig = new Configuration({ basePath: \"http://localhost:8080\" });\n",
    "const titlesApi = new DefaultApi(apiConfig);\n",
    "\n",
    "export const defaultInput:GetStoryInput = {\n",
    "    story_full_paths:'Example/add'\n",
    "}\n",
    "\n",
    "export const GetStoryStoryPost:React.FC<GetStoryInput> = (\n",
    "    story_full_paths\n",
    ") => {\n",
    "    const [response, setResponse] = useState<Story|undefined>()\n",
    "\n",
    "    const handleClick = async () => {\n",
    "        const response = await titlesApi.getStoryStoryPost(story_full_paths)\n",
    "        setResponse(response.data)\n",
    "    } \n",
    "    \n",
    "    return <div>\n",
    "                <button onClick={handleClick}>Execute</button>\n",
    "                <p>{JSON.stringify(response, null, 2)}</p>   \n",
    "            </div>\n",
    "}\n",
    "\n",
    "export default GetStoryStoryPost\n",
    "\n",
    "```"
   ]
  },
  {
   "cell_type": "code",
   "execution_count": 86,
   "metadata": {},
   "outputs": [],
   "source": [
    "component_template = r'''\n",
    "import React, { useState} from 'react'\n",
    "import { DefaultApi, Configuration, \\[input_names\\], \\[output_names\\] } from './ts-client';  // Adjust the path as necessary\n",
    "\n",
    "const apiConfig = new Configuration({ basePath: \"\\[base_url\\]\" });\n",
    "const titlesApi = new DefaultApi(apiConfig);\n",
    "\n",
    "export const defaultInput:\\[input_names\\] = \\[kwarg\\]\n",
    "\n",
    "export const \\[Func_name\\]:React.FC<\\[input_names\\]> = (\n",
    "    inputProps\n",
    ") => {\n",
    "    const [response, setResponse] = useState<\\[output_names\\]|undefined>()\n",
    "\n",
    "    const handleClick = async () => {\n",
    "        const response = await titlesApi.\\[func_name\\](inputProps)\n",
    "        setResponse(response.data)\n",
    "    } \n",
    "    \n",
    "    return <div>\n",
    "                <button onClick={handleClick}>Execute</button>\n",
    "                <p>{JSON.stringify(response, null, 2)}</p>   \n",
    "            </div>\n",
    "}\n",
    "\n",
    "export default \\[Func_name\\]\n",
    "'''"
   ]
  },
  {
   "cell_type": "code",
   "execution_count": 87,
   "metadata": {},
   "outputs": [],
   "source": [
    "edit1 = component_template.replace(r'{', r'{{')\n",
    "edit2 = edit1.replace(r'}', r'}}')\n",
    "edit3 = edit2.replace(r'\\[', r'{')\n",
    "edit4 = edit3.replace(r'\\]', r'}')"
   ]
  },
  {
   "cell_type": "code",
   "execution_count": 88,
   "metadata": {},
   "outputs": [
    {
     "data": {
      "text/plain": [
       "'\\nimport React, {{ useState}} from \\'react\\'\\nimport {{ DefaultApi, Configuration, {input_names}, {output_names} }} from \\'./ts-client\\';  // Adjust the path as necessary\\n\\nconst apiConfig = new Configuration({{ basePath: \"{base_url}\" }});\\nconst titlesApi = new DefaultApi(apiConfig);\\n\\nexport const defaultInput:{input_names} = {kwarg}\\n\\nexport const {Func_name}:React.FC<{input_names}> = (\\n    inputProps\\n) => {{\\n    const [response, setResponse] = useState<{output_names}|undefined>()\\n\\n    const handleClick = async () => {{\\n        const response = await titlesApi.{func_name}(inputProps)\\n        setResponse(response.data)\\n    }} \\n    \\n    return <div>\\n                <button onClick={{handleClick}}>Execute</button>\\n                <p>{{JSON.stringify(response, null, 2)}}</p>   \\n            </div>\\n}}\\n\\nexport default {Func_name}\\n'"
      ]
     },
     "execution_count": 88,
     "metadata": {},
     "output_type": "execute_result"
    }
   ],
   "source": [
    "edit4"
   ]
  },
  {
   "cell_type": "code",
   "execution_count": 89,
   "metadata": {},
   "outputs": [],
   "source": [
    "template = '''\n",
    "import React, {{ useState}} from 'react'\n",
    "import {{ DefaultApi, Configuration, {input_names}, {output_names} }} from './ts-client';  // Adjust the path as necessary\n",
    "\n",
    "const apiConfig = new Configuration({{ basePath: \"{base_url}\" }});\n",
    "const titlesApi = new DefaultApi(apiConfig);\n",
    "\n",
    "export const defaultInput:GetStoryInput = {kwarg}\n",
    "\n",
    "export const {Func_name}:React.FC<> = (\n",
    "    inputProps\n",
    ") => {{\n",
    "    const [response, setResponse] = useState<{output_names}|undefined>()\n",
    "\n",
    "    const handleClick = async () => {{\n",
    "        const response = await titlesApi.{func_name}(inputProps)\n",
    "        setResponse(response.data)\n",
    "    }} \n",
    "    \n",
    "    return <div>\n",
    "                <button onClick={{handleClick}}>Execute</button>\n",
    "                <p>{{JSON.stringify(response, null, 2)}}</p>   \n",
    "            </div>\n",
    "}}\n",
    "\n",
    "export default {Func_name}\n",
    "'''"
   ]
  },
  {
   "cell_type": "code",
   "execution_count": 90,
   "metadata": {},
   "outputs": [
    {
     "data": {
      "text/plain": [
       "[FunctionDefinition(func_name='getTitlesTitlesGet', input_props_name=None, output_props_name='GetTitlesReturn'),\n",
       " FunctionDefinition(func_name='getAllStoryFullPathsAllStoryFullPathsGet', input_props_name=None, output_props_name='GetStoryFullPathsReturn'),\n",
       " FunctionDefinition(func_name='getStoryStoryPost', input_props_name='GetStoryInput', output_props_name='Story'),\n",
       " FunctionDefinition(func_name='registorManagersRegisterManagersGet', input_props_name=None, output_props_name=None),\n",
       " FunctionDefinition(func_name='getApiSchemaApiSchemaGet', input_props_name=None, output_props_name=None),\n",
       " FunctionDefinition(func_name='withDefaultSimplePost', input_props_name='SimpleProps', output_props_name='SimpleOutProps')]"
      ]
     },
     "execution_count": 90,
     "metadata": {},
     "output_type": "execute_result"
    }
   ],
   "source": [
    "definitions"
   ]
  },
  {
   "cell_type": "code",
   "execution_count": 91,
   "metadata": {},
   "outputs": [],
   "source": [
    "definition:FunctionDefinition = definitions[-1]"
   ]
  },
  {
   "cell_type": "code",
   "execution_count": 92,
   "metadata": {},
   "outputs": [],
   "source": [
    "formatted = edit4.format(\n",
    "    func_name=definition.func_name,\n",
    "    Func_name=definition.func_name,\n",
    "    input_names=definition.input_props_name,\n",
    "    output_names=definition.output_props_name,\n",
    "    base_url=\"http://localhost:8080\",\n",
    "    kwarg=r\"{arg1:1, arg2:2}\"\n",
    ")"
   ]
  },
  {
   "cell_type": "code",
   "execution_count": 93,
   "metadata": {},
   "outputs": [
    {
     "name": "stdout",
     "output_type": "stream",
     "text": [
      "\n",
      "import React, { useState} from 'react'\n",
      "import { DefaultApi, Configuration, SimpleProps, SimpleOutProps } from './ts-client';  // Adjust the path as necessary\n",
      "\n",
      "const apiConfig = new Configuration({ basePath: \"http://localhost:8080\" });\n",
      "const titlesApi = new DefaultApi(apiConfig);\n",
      "\n",
      "export const defaultInput:SimpleProps = {arg1:1, arg2:2}\n",
      "\n",
      "export const withDefaultSimplePost:React.FC<SimpleProps> = (\n",
      "    inputProps\n",
      ") => {\n",
      "    const [response, setResponse] = useState<SimpleOutProps|undefined>()\n",
      "\n",
      "    const handleClick = async () => {\n",
      "        const response = await titlesApi.withDefaultSimplePost(inputProps)\n",
      "        setResponse(response.data)\n",
      "    } \n",
      "    \n",
      "    return <div>\n",
      "                <button onClick={handleClick}>Execute</button>\n",
      "                <p>{JSON.stringify(response, null, 2)}</p>   \n",
      "            </div>\n",
      "}\n",
      "\n",
      "export default withDefaultSimplePost\n",
      "\n"
     ]
    }
   ],
   "source": [
    "print(formatted)"
   ]
  },
  {
   "cell_type": "code",
   "execution_count": null,
   "metadata": {},
   "outputs": [],
   "source": []
  }
 ],
 "metadata": {
  "kernelspec": {
   "display_name": "core",
   "language": "python",
   "name": "python3"
  },
  "language_info": {
   "codemirror_mode": {
    "name": "ipython",
    "version": 3
   },
   "file_extension": ".py",
   "mimetype": "text/x-python",
   "name": "python",
   "nbconvert_exporter": "python",
   "pygments_lexer": "ipython3",
   "version": "3.11.9"
  }
 },
 "nbformat": 4,
 "nbformat_minor": 2
}
