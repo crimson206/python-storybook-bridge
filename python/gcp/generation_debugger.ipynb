{
 "cells": [
  {
   "cell_type": "code",
   "execution_count": 6,
   "metadata": {},
   "outputs": [],
   "source": [
    "from fastapi import FastAPI\n",
    "from pydantic import BaseModel\n",
    "from python_storybook.core import StoryHub, Story\n",
    "from typing import List\n",
    "import os\n",
    "\n",
    "from core_stories import story_manager\n",
    "StoryHub.register(story_manager=story_manager)\n",
    "\n",
    "app = FastAPI()\n",
    "\n",
    "\n",
    "class GetTitlesReturn(BaseModel):\n",
    "    titles: List[str]\n",
    "\n",
    "\n",
    "class GetStoryFullPathsReturn(BaseModel):\n",
    "    story_full_paths: List[str]\n",
    "\n",
    "\n",
    "@app.get('/titles', response_model=GetTitlesReturn)\n",
    "async def get_titles():\n",
    "    titles = StoryHub.get_titles()\n",
    "    return GetTitlesReturn(titles=titles)\n",
    "\n",
    "\n",
    "# @app.get('/changes')\n",
    "\n",
    "@app.get('/all_story_full_paths', response_model=GetStoryFullPathsReturn)\n",
    "async def get_all_story_full_paths():\n",
    "    paths = StoryHub.get_all_story_full_paths()\n",
    "    return GetStoryFullPathsReturn(story_full_paths=paths)\n",
    "\n",
    "\n",
    "class GetStoryInput(BaseModel):\n",
    "    story_full_paths: str\n",
    "\n",
    "\n",
    "class StoryPatched(Story):\n",
    "    func: None = None\n",
    "\n",
    "@app.post('/story', response_model=StoryPatched)\n",
    "async def get_story(story_path_full_path: GetStoryInput):\n",
    "    story = StoryHub.get_story(story_path_full_path.story_full_paths)\n",
    "    story_dump = story.model_dump()\n",
    "    story_dump['func'] = None\n",
    "    story = StoryPatched(\n",
    "        **story_dump\n",
    "    )\n",
    "    return story.model_dump()\n",
    "\n",
    "\n",
    "@app.get('/register_managers', response_model=str)\n",
    "async def registor_managers():\n",
    "    StoryHub.register_story_managers(directory=os.getcwd())\n",
    "    return 'any string'\n",
    "\n",
    "\n",
    "@app.get('/api-schema')\n",
    "async def get_api_schema():\n",
    "    return app.openapi()\n",
    "\n",
    "## uvicorn main:app --host 0.0.0.0 --port 8080\n",
    "## uvicorn main:app --host 0.0.0.0 --port 8080 --reload\n",
    "\n",
    "\n"
   ]
  },
  {
   "cell_type": "code",
   "execution_count": 28,
   "metadata": {},
   "outputs": [],
   "source": [
    "import json\n",
    "from fastapi.openapi.utils import get_openapi\n",
    "from subprocess import run, PIPE\n",
    "import fastapi\n",
    "from fastapi import routing as frouting\n",
    "from starlette import routing as srouting\n",
    "import fastapi\n",
    "import starlette\n",
    "\n",
    "file_names = []\n",
    "for route in app.routes:\n",
    "\n",
    "    openapi_schema = get_openapi(\n",
    "        title=\"Dynamic Schema Generation\",\n",
    "        version=\"1.0.0\",\n",
    "        description=\"Generate schema for specific paths\",\n",
    "        routes=[route]\n",
    "    )\n",
    "    base_dir = \"schemas/\"\n",
    "    file_name = f\"schema_for_{route.path.replace('/', '_')}.json\"\n",
    "    file_names.append(file_name)\n",
    "    with open(base_dir+file_name, 'w') as f:\n",
    "        json.dump(openapi_schema, f, indent=4)"
   ]
  },
  {
   "cell_type": "code",
   "execution_count": null,
   "metadata": {},
   "outputs": [],
   "source": []
  },
  {
   "cell_type": "code",
   "execution_count": 23,
   "metadata": {},
   "outputs": [],
   "source": [
    "def process_routes(file_names, base_dir):\n",
    "\n",
    "    results = {}\n",
    "\n",
    "    for file_name in file_names:\n",
    "        # Run the OpenAPI generator CLI\n",
    "        path = base_dir+file_name\n",
    "        \n",
    "        result = run(\n",
    "            ['openapi-generator-cli', 'generate', '-i', path, '-g', 'typescript-axios', '-o', f\"./ts-client\"],\n",
    "            stdout=PIPE, stderr=PIPE\n",
    "        )\n",
    "        # Log result\n",
    "        results[path] = 'Success' if result.returncode == 0 else result.stderr.decode()\n",
    "\n",
    "    return results"
   ]
  },
  {
   "cell_type": "code",
   "execution_count": 29,
   "metadata": {},
   "outputs": [
    {
     "data": {
      "text/plain": [
       "'schema_for__openapi.json.json'"
      ]
     },
     "execution_count": 29,
     "metadata": {},
     "output_type": "execute_result"
    }
   ],
   "source": [
    "file_names[0]"
   ]
  },
  {
   "cell_type": "code",
   "execution_count": 30,
   "metadata": {},
   "outputs": [],
   "source": [
    "results = process_routes(file_names=file_names, base_dir=base_dir)"
   ]
  },
  {
   "cell_type": "code",
   "execution_count": 31,
   "metadata": {},
   "outputs": [
    {
     "data": {
      "text/plain": [
       "{'schemas/schema_for__openapi.json.json': 'Success',\n",
       " 'schemas/schema_for__docs.json': 'Success',\n",
       " 'schemas/schema_for__docs_oauth2-redirect.json': 'Success',\n",
       " 'schemas/schema_for__redoc.json': 'Success',\n",
       " 'schemas/schema_for__titles.json': 'Success',\n",
       " 'schemas/schema_for__all_story_full_paths.json': 'Success',\n",
       " 'schemas/schema_for__story.json': 'Exception in thread \"main\" java.util.NoSuchElementException\\n\\tat java.base/java.util.LinkedHashMap$LinkedHashIterator.nextNode(LinkedHashMap.java:721)\\n\\tat java.base/java.util.LinkedHashMap$LinkedKeyIterator.next(LinkedHashMap.java:741)\\n\\tat org.openapitools.codegen.utils.ModelUtils.getType(ModelUtils.java:2141)\\n\\tat org.openapitools.codegen.utils.ModelUtils.isArraySchema(ModelUtils.java:594)\\n\\tat org.openapitools.codegen.InlineModelResolver.gatherInlineModels(InlineModelResolver.java:341)\\n\\tat org.openapitools.codegen.InlineModelResolver.gatherInlineModels(InlineModelResolver.java:296)\\n\\tat org.openapitools.codegen.InlineModelResolver.flattenComponents(InlineModelResolver.java:656)\\n\\tat org.openapitools.codegen.InlineModelResolver.flatten(InlineModelResolver.java:109)\\n\\tat org.openapitools.codegen.DefaultGenerator.configureGeneratorProperties(DefaultGenerator.java:292)\\n\\tat org.openapitools.codegen.DefaultGenerator.generate(DefaultGenerator.java:1289)\\n\\tat org.openapitools.codegen.cmd.Generate.execute(Generate.java:535)\\n\\tat org.openapitools.codegen.cmd.OpenApiGeneratorCommand.run(OpenApiGeneratorCommand.java:32)\\n\\tat org.openapitools.codegen.OpenAPIGenerator.main(OpenAPIGenerator.java:66)\\n',\n",
       " 'schemas/schema_for__register_managers.json': 'Success',\n",
       " 'schemas/schema_for__api-schema.json': 'Success'}"
      ]
     },
     "execution_count": 31,
     "metadata": {},
     "output_type": "execute_result"
    }
   ],
   "source": [
    "results"
   ]
  },
  {
   "cell_type": "code",
   "execution_count": 3,
   "metadata": {},
   "outputs": [],
   "source": [
    "# Additonal\n",
    "def func(\n",
    "    # The first number to add\n",
    "    arg1: int=1,\n",
    "    # The second number to add\n",
    "    # Multiline Docstring\n",
    "\n",
    "    arg2: int=2,\n",
    "    arg3: int=4, # some noise\n",
    "):\n",
    "    '''\n",
    "    Traditional Docstring\n",
    "    '''\n",
    "    # Added number of Arg1 and Arg2\n",
    "    return arg1 + arg2"
   ]
  },
  {
   "cell_type": "code",
   "execution_count": 14,
   "metadata": {},
   "outputs": [
    {
     "name": "stdout",
     "output_type": "stream",
     "text": [
      "def func(\n",
      "    # The first number to add\n",
      "    arg1: int=1,\n",
      "    # The second number to add\n",
      "    arg2: int=2,\n",
      "    arg3: int=4,\n",
      "):\n",
      "    '''\n",
      "    Traditional Docstring\n",
      "    '''\n",
      "    # Added number of Arg1 and Arg2\n",
      "    return arg1 + arg2\n",
      "\n"
     ]
    }
   ],
   "source": [
    "import inspect\n",
    "\n",
    "print(inspect.getsource(func))"
   ]
  },
  {
   "cell_type": "code",
   "execution_count": 1,
   "metadata": {},
   "outputs": [],
   "source": [
    "import ast\n",
    "import inspect\n",
    "\n",
    "tree = ast.parse('''def func(\n",
    "    # The first number to add\n",
    "    arg1: int=1,\n",
    "    # The second number to add\n",
    "    # Multiline Docstring\n",
    "    arg2: int=2,\n",
    "    arg3: int=4,\n",
    "):\n",
    "    \"\"\"\n",
    "    Traditional Docstring\n",
    "    \"\"\"\n",
    "    # Added number of Arg1 and Arg2\n",
    "    return arg1 + arg2''')"
   ]
  },
  {
   "cell_type": "code",
   "execution_count": 24,
   "metadata": {},
   "outputs": [
    {
     "data": {
      "text/plain": [
       "\"def func(\\n    # The first number to add\\n    arg1: int=1,\\n    # The second number to add\\n    # Multiline Docstring\\n    arg2: int=2,\\n    arg3: int=4,\\n):\\n    '''\\n    Traditional Docstring\\n    '''\\n    # Added number of Arg1 and Arg2\\n    return arg1 + arg2\\n\""
      ]
     },
     "execution_count": 24,
     "metadata": {},
     "output_type": "execute_result"
    }
   ],
   "source": [
    "inspect.getsource(func)"
   ]
  },
  {
   "cell_type": "code",
   "execution_count": 20,
   "metadata": {},
   "outputs": [],
   "source": [
    "class A:\n",
    "    def __init__(self):\n",
    "        pass\n",
    "    '''\n",
    "    aaaa\n",
    "    '''\n",
    "    \n",
    "    @staticmethod\n",
    "    def func2(self):\n",
    "        pass\n",
    "    \n",
    "    def func3():\n",
    "        pass"
   ]
  },
  {
   "cell_type": "code",
   "execution_count": 21,
   "metadata": {},
   "outputs": [
    {
     "name": "stdout",
     "output_type": "stream",
     "text": [
      "    @staticmethod\n",
      "    def func2(self):\n",
      "        pass\n",
      "\n"
     ]
    }
   ],
   "source": [
    "print(inspect.getsource(A.func2))"
   ]
  },
  {
   "cell_type": "code",
   "execution_count": 24,
   "metadata": {},
   "outputs": [],
   "source": [
    "import ast\n",
    "import tokenize\n",
    "import io\n",
    "\n",
    "source_code = inspect.getsource(A.func2)\n",
    "source_code = '''\n",
    "@staticmethod\n",
    "def func2(\n",
    "    # some docstring\n",
    "    self\n",
    "):\n",
    "    pass\n",
    "'''\n",
    "\n",
    "\n",
    "# 토큰화를 사용하여 주석 추출\n",
    "comments = {}\n",
    "tokens = tokenize.tokenize(io.BytesIO(source_code.encode('utf-8')).readline)\n",
    "\n",
    "for token in tokens:\n",
    "    if token.type == tokenize.COMMENT:\n",
    "        comments[token.start[0]] = token.string\n",
    "\n",
    "# AST를 통해 함수의 구조 파악\n",
    "tree = ast.parse(source_code)\n",
    "func_details = {}\n",
    "for node in ast.walk(tree):\n",
    "    if isinstance(node, ast.FunctionDef):\n",
    "        func_details['name'] = node.name\n",
    "        func_details['args'] = {}\n",
    "        func_details['docstring'] = ast.get_docstring(node)\n",
    "        for arg in node.args.args:\n",
    "            arg_comments = []\n",
    "            # 인자 위의 주석을 모두 포함\n",
    "            for lineno in range(arg.lineno - 1, 0, -1):\n",
    "                if lineno in comments:\n",
    "                    arg_comments.append(comments[lineno])\n",
    "                else:\n",
    "                    break\n",
    "            func_details['args'][arg.arg] = ' '.join(reversed(arg_comments))\n",
    "\n",
    "        return_node = node.body[-1]\n",
    "        if isinstance(return_node, ast.Return) and return_node.lineno - 1 in comments:\n",
    "            func_details['return_comment'] = comments[return_node.lineno - 1]"
   ]
  },
  {
   "cell_type": "code",
   "execution_count": 25,
   "metadata": {},
   "outputs": [
    {
     "data": {
      "text/plain": [
       "{'name': 'func2', 'args': {'self': '# some docstring'}, 'docstring': None}"
      ]
     },
     "execution_count": 25,
     "metadata": {},
     "output_type": "execute_result"
    }
   ],
   "source": [
    "func_details"
   ]
  },
  {
   "cell_type": "code",
   "execution_count": 6,
   "metadata": {},
   "outputs": [],
   "source": [
    "import ast\n",
    "import tokenize\n",
    "import io\n",
    "\n",
    "source_code = inspect.getsource(func)\n",
    "\n",
    "# 토큰화를 사용하여 주석 추출\n",
    "comments = {}\n",
    "tokens = tokenize.tokenize(io.BytesIO(source_code.encode('utf-8')).readline)\n",
    "\n",
    "for token in tokens:\n",
    "    if token.type == tokenize.COMMENT:\n",
    "        comments[token.start[0]] = token.string\n",
    "\n",
    "# AST를 통해 함수의 구조 파악\n",
    "tree = ast.parse(source_code)\n",
    "func_details = {}\n",
    "for node in ast.walk(tree):\n",
    "    if isinstance(node, ast.FunctionDef):\n",
    "        func_details['name'] = node.name\n",
    "        func_details['args'] = {}\n",
    "        func_details['docstring'] = ast.get_docstring(node)\n",
    "        for arg in node.args.args:\n",
    "            arg_comments = []\n",
    "            # 인자 위의 주석을 모두 포함\n",
    "            for lineno in range(arg.lineno - 1, 0, -1):\n",
    "                if lineno in comments:\n",
    "                    arg_comments.append(comments[lineno])\n",
    "                else:\n",
    "                    break\n",
    "            func_details['args'][arg.arg] = ' '.join(reversed(arg_comments))\n",
    "\n",
    "        return_node = node.body[-1]\n",
    "        if isinstance(return_node, ast.Return) and return_node.lineno - 1 in comments:\n",
    "            func_details['return_comment'] = comments[return_node.lineno - 1]\n",
    "\n"
   ]
  },
  {
   "cell_type": "code",
   "execution_count": 7,
   "metadata": {},
   "outputs": [
    {
     "data": {
      "text/plain": [
       "{'name': 'func',\n",
       " 'args': {'arg1': '# The first number to add', 'arg2': '', 'arg3': ''},\n",
       " 'docstring': 'Traditional Docstring',\n",
       " 'return_comment': '# Added number of Arg1 and Arg2'}"
      ]
     },
     "execution_count": 7,
     "metadata": {},
     "output_type": "execute_result"
    }
   ],
   "source": [
    "func_details"
   ]
  },
  {
   "cell_type": "code",
   "execution_count": null,
   "metadata": {},
   "outputs": [],
   "source": []
  },
  {
   "cell_type": "code",
   "execution_count": null,
   "metadata": {},
   "outputs": [],
   "source": []
  }
 ],
 "metadata": {
  "kernelspec": {
   "display_name": "core",
   "language": "python",
   "name": "python3"
  },
  "language_info": {
   "codemirror_mode": {
    "name": "ipython",
    "version": 3
   },
   "file_extension": ".py",
   "mimetype": "text/x-python",
   "name": "python",
   "nbconvert_exporter": "python",
   "pygments_lexer": "ipython3",
   "version": "3.11.9"
  }
 },
 "nbformat": 4,
 "nbformat_minor": 2
}
