{
 "cells": [
  {
   "cell_type": "code",
   "execution_count": 187,
   "metadata": {},
   "outputs": [],
   "source": [
    "from python_storybook.core import Story, StoryManager, StoryHub"
   ]
  },
  {
   "cell_type": "code",
   "execution_count": 230,
   "metadata": {},
   "outputs": [],
   "source": [
    "from typing import List, Any, Dict, Literal, Optional, Union, get_type_hints\n",
    "\n",
    "def with_typehint(arg1:str, arg2:Optional[List[str]], arg3:Literal[\"A\", \"B\"], arg4:Union[str, Literal[\"A\", \"B\"]])->str:\n",
    "    return {\"string\":[1, \"another string\"]}"
   ]
  },
  {
   "cell_type": "code",
   "execution_count": null,
   "metadata": {},
   "outputs": [],
   "source": []
  },
  {
   "cell_type": "code",
   "execution_count": 266,
   "metadata": {},
   "outputs": [],
   "source": [
    "story_manager = StoryManager(title=\"Example\")\n",
    "\n",
    "story_manager.create_story(\n",
    "    func=with_typehint,\n",
    "    kwargs={\n",
    "        \"arg1\":\"Hello world\",\n",
    "        \"arg2\":[\"hi\", \"buy\"],\n",
    "        \"arg3\":\"A\",\n",
    "        \"arg4\":'I am boring.'\n",
    "    }\n",
    ")"
   ]
  },
  {
   "cell_type": "code",
   "execution_count": 268,
   "metadata": {},
   "outputs": [],
   "source": [
    "story_meta = StoryHub.get_story_meta(story_manager.get_stories()[0])"
   ]
  },
  {
   "cell_type": "code",
   "execution_count": 269,
   "metadata": {},
   "outputs": [],
   "source": [
    "story = story_manager.get_stories()[0]"
   ]
  },
  {
   "cell_type": "code",
   "execution_count": 270,
   "metadata": {},
   "outputs": [
    {
     "data": {
      "text/plain": [
       "{'arg1': str,\n",
       " 'arg2': typing.Optional[typing.List[str]],\n",
       " 'arg3': typing.Literal['A', 'B'],\n",
       " 'arg4': typing.Union[str, typing.Literal['A', 'B']],\n",
       " 'return': str}"
      ]
     },
     "execution_count": 270,
     "metadata": {},
     "output_type": "execute_result"
    }
   ],
   "source": [
    "get_type_hints(with_typehint)"
   ]
  },
  {
   "cell_type": "code",
   "execution_count": 258,
   "metadata": {},
   "outputs": [
    {
     "data": {
      "text/plain": [
       "typing._UnionGenericAlias"
      ]
     },
     "execution_count": 258,
     "metadata": {},
     "output_type": "execute_result"
    }
   ],
   "source": [
    "type(get_type_hints(with_typehint)['arg4'])"
   ]
  },
  {
   "cell_type": "code",
   "execution_count": 233,
   "metadata": {},
   "outputs": [
    {
     "data": {
      "text/plain": [
       "type"
      ]
     },
     "execution_count": 233,
     "metadata": {},
     "output_type": "execute_result"
    }
   ],
   "source": [
    "type(get_type_hints(with_typehint)['return'])"
   ]
  },
  {
   "cell_type": "code",
   "execution_count": null,
   "metadata": {},
   "outputs": [],
   "source": []
  },
  {
   "cell_type": "code",
   "execution_count": 192,
   "metadata": {},
   "outputs": [
    {
     "data": {
      "text/plain": [
       "{'arg1': 'str',\n",
       " 'arg2': 'Optional[List[str]]',\n",
       " 'arg3': \"Literal['A', 'B']\",\n",
       " 'arg4': \"Union[str, Literal['A', 'B']]\",\n",
       " 'return': 'str'}"
      ]
     },
     "execution_count": 192,
     "metadata": {},
     "output_type": "execute_result"
    }
   ],
   "source": [
    "type_hints = story_meta.type_hints\n",
    "type_hints"
   ]
  },
  {
   "cell_type": "code",
   "execution_count": 193,
   "metadata": {},
   "outputs": [],
   "source": [
    "def get_indexes_by_bracket(text:str, target:str, open='[', close=']', reversed=True):\n",
    "    if reversed:\n",
    "        start_index = text.rfind(target)\n",
    "    else:\n",
    "        start_index = text.find(target)\n",
    "    bracket_start_index = text[start_index:].find(open) + start_index\n",
    "    end_index = bracket_start_index\n",
    "    count = 0\n",
    "    for letter in text[bracket_start_index:]:\n",
    "        if letter==open:\n",
    "            count += 1\n",
    "        elif letter==close:\n",
    "            count -= 1\n",
    "        else:\n",
    "            pass\n",
    "        end_index += 1\n",
    "        if count == 0:\n",
    "            break\n",
    "    return start_index, end_index"
   ]
  },
  {
   "cell_type": "code",
   "execution_count": 194,
   "metadata": {},
   "outputs": [],
   "source": [
    "start_index, end_index = get_indexes_by_bracket('Optional[List[List[]]]', \"List\")"
   ]
  },
  {
   "cell_type": "code",
   "execution_count": 195,
   "metadata": {},
   "outputs": [
    {
     "data": {
      "text/plain": [
       "'List[]'"
      ]
     },
     "execution_count": 195,
     "metadata": {},
     "output_type": "execute_result"
    }
   ],
   "source": [
    "'Optional[List[List[]]]'[start_index:end_index]"
   ]
  },
  {
   "cell_type": "code",
   "execution_count": null,
   "metadata": {},
   "outputs": [],
   "source": []
  },
  {
   "cell_type": "code",
   "execution_count": 196,
   "metadata": {},
   "outputs": [],
   "source": [
    "def count_repetation(text, target):\n",
    "    split = text.split(target)\n",
    "    return len(split) - 1"
   ]
  },
  {
   "cell_type": "code",
   "execution_count": 197,
   "metadata": {},
   "outputs": [],
   "source": [
    "def handle_Literal(text:str):\n",
    "    split = text.replace(\"Literal\", \"\")[1:-1].split(',')\n",
    "    text = \" | \".join(split)\n",
    "    return text"
   ]
  },
  {
   "cell_type": "code",
   "execution_count": 198,
   "metadata": {},
   "outputs": [],
   "source": [
    "def handle_Union(text:str):\n",
    "    split = text.replace(\"Union\", \"\")[1:-1].split(',')\n",
    "    text = \" | \".join(split)\n",
    "    return text"
   ]
  },
  {
   "cell_type": "code",
   "execution_count": 199,
   "metadata": {},
   "outputs": [
    {
     "data": {
      "text/plain": [
       "'str |  float'"
      ]
     },
     "execution_count": 199,
     "metadata": {},
     "output_type": "execute_result"
    }
   ],
   "source": [
    "handle_Literal(\"Literal[str, float]\")"
   ]
  },
  {
   "cell_type": "code",
   "execution_count": 200,
   "metadata": {},
   "outputs": [],
   "source": [
    "def handle_List(text:str):\n",
    "    text = text.replace(\"List\", \"\")[1:-1] + \"[]\"\n",
    "    return text"
   ]
  },
  {
   "cell_type": "code",
   "execution_count": 201,
   "metadata": {},
   "outputs": [
    {
     "data": {
      "text/plain": [
       "'str[]'"
      ]
     },
     "execution_count": 201,
     "metadata": {},
     "output_type": "execute_result"
    }
   ],
   "source": [
    "handle_List(\"List[str]\")"
   ]
  },
  {
   "cell_type": "code",
   "execution_count": 202,
   "metadata": {},
   "outputs": [],
   "source": [
    "def handle_Optional(text:str):\n",
    "    text = text.replace(\"Optional\", \"\")[1:-1] + \"?\"\n",
    "    return text"
   ]
  },
  {
   "cell_type": "code",
   "execution_count": 203,
   "metadata": {},
   "outputs": [
    {
     "data": {
      "text/plain": [
       "'Dict[str, Any]'"
      ]
     },
     "execution_count": 203,
     "metadata": {},
     "output_type": "execute_result"
    }
   ],
   "source": [
    "'Dict[str, Any]'"
   ]
  },
  {
   "cell_type": "code",
   "execution_count": 204,
   "metadata": {},
   "outputs": [],
   "source": [
    "def handle_Dict(text:str):\n",
    "    template = \"[key: {key_type}]: {value_type}\"\n",
    "    key_type, value_type = text.replace(\"Dict\", \"\")[1:-1].split(\",\")\n",
    "    text = template.format(key_type=key_type, value_type=value_type)\n",
    "    text = \"{ \" + text + \" }\"\n",
    "    return text\n",
    "    "
   ]
  },
  {
   "cell_type": "code",
   "execution_count": 205,
   "metadata": {},
   "outputs": [
    {
     "data": {
      "text/plain": [
       "'{ [key: str]:  Any }'"
      ]
     },
     "execution_count": 205,
     "metadata": {},
     "output_type": "execute_result"
    }
   ],
   "source": [
    "handle_Dict('Dict[str, Any]')"
   ]
  },
  {
   "cell_type": "code",
   "execution_count": 206,
   "metadata": {},
   "outputs": [],
   "source": [
    "\n",
    "def handle_base(text:str):\n",
    "    text = text.replace(\"str\", \"string\")\n",
    "    text = text.replace(\"float\", \"number\")\n",
    "    text = text.replace(\"int\", \"number\")\n",
    "    text = text.replace(\"Any\", \"any\")\n",
    "    return text\n",
    "\n"
   ]
  },
  {
   "cell_type": "code",
   "execution_count": null,
   "metadata": {},
   "outputs": [],
   "source": []
  },
  {
   "cell_type": "code",
   "execution_count": 207,
   "metadata": {},
   "outputs": [],
   "source": [
    "handlers = {\n",
    "    \"base\":handle_base,\n",
    "    \"List\":handle_List,\n",
    "    \"Dict\":handle_Dict,\n",
    "    \"Literal\":handle_Literal,\n",
    "    \"Optional\":handle_Optional,\n",
    "    \"Union\":handle_Union,\n",
    "}\n",
    "\n",
    "special_types = list(handlers.keys())\n",
    "special_types.remove(\"base\")"
   ]
  },
  {
   "cell_type": "code",
   "execution_count": 208,
   "metadata": {},
   "outputs": [
    {
     "data": {
      "text/plain": [
       "['List', 'Dict', 'Literal', 'Optional', 'Union']"
      ]
     },
     "execution_count": 208,
     "metadata": {},
     "output_type": "execute_result"
    }
   ],
   "source": [
    "special_types"
   ]
  },
  {
   "cell_type": "code",
   "execution_count": 209,
   "metadata": {},
   "outputs": [],
   "source": [
    "def converting(text, target, handlers=handlers):\n",
    "    start_index, end_index = get_indexes_by_bracket(text, target)\n",
    "    split = text[:start_index], text[start_index:end_index], text[end_index:]\n",
    "    for i in range(len(split)):\n",
    "        if split[i] is None:\n",
    "            split[i] = \"\"\n",
    "    front, middle, back = split\n",
    "    middle =  handlers[target](middle)\n",
    "    text = front + middle + back\n",
    "    return text"
   ]
  },
  {
   "cell_type": "code",
   "execution_count": 210,
   "metadata": {},
   "outputs": [],
   "source": [
    "def get_last_special_type(text:str, special_types:List[str])->Union[str, None]:\n",
    "    last_special = None\n",
    "    last_index = -1\n",
    "    \n",
    "    for special_type in special_types:\n",
    "        current_index = text.rfind(special_type)\n",
    "        if current_index > last_index:\n",
    "            last_index = current_index\n",
    "            last_special = special_type\n",
    "\n",
    "    return last_special"
   ]
  },
  {
   "cell_type": "code",
   "execution_count": 211,
   "metadata": {},
   "outputs": [
    {
     "data": {
      "text/plain": [
       "'List'"
      ]
     },
     "execution_count": 211,
     "metadata": {},
     "output_type": "execute_result"
    }
   ],
   "source": [
    "get_last_special_type('Optional[List[List[str]]]', special_types=special_types)"
   ]
  },
  {
   "cell_type": "code",
   "execution_count": 212,
   "metadata": {},
   "outputs": [],
   "source": [
    "def map_python_to_typescript(text:str, special_types=special_types, handlers=handlers, buffer=20):\n",
    "    for _ in range(buffer):\n",
    "        special_type = get_last_special_type(text, special_types)\n",
    "        if special_type is not None:\n",
    "            text = converting(text, special_type, handlers)\n",
    "        else:\n",
    "            break\n",
    "    text = handle_base(text)\n",
    "    return text"
   ]
  },
  {
   "cell_type": "code",
   "execution_count": 213,
   "metadata": {},
   "outputs": [
    {
     "data": {
      "text/plain": [
       "'string[][]?'"
      ]
     },
     "execution_count": 213,
     "metadata": {},
     "output_type": "execute_result"
    }
   ],
   "source": [
    "map_python_to_typescript('Optional[List[List[str]]]')"
   ]
  },
  {
   "cell_type": "code",
   "execution_count": 214,
   "metadata": {},
   "outputs": [
    {
     "data": {
      "text/plain": [
       "'Optional[List[str[]]]'"
      ]
     },
     "execution_count": 214,
     "metadata": {},
     "output_type": "execute_result"
    }
   ],
   "source": [
    "converting('Optional[List[List[str]]]', 'List', handlers)"
   ]
  },
  {
   "cell_type": "code",
   "execution_count": 215,
   "metadata": {},
   "outputs": [
    {
     "data": {
      "text/plain": [
       "'Optional[str[][]]'"
      ]
     },
     "execution_count": 215,
     "metadata": {},
     "output_type": "execute_result"
    }
   ],
   "source": [
    "converted = converting(converting('Optional[List[List[str]]]', 'List'), 'List')\n",
    "converted"
   ]
  },
  {
   "cell_type": "code",
   "execution_count": 216,
   "metadata": {},
   "outputs": [
    {
     "data": {
      "text/plain": [
       "'string[]'"
      ]
     },
     "execution_count": 216,
     "metadata": {},
     "output_type": "execute_result"
    }
   ],
   "source": [
    "map_python_to_typescript('List[str]')"
   ]
  },
  {
   "cell_type": "code",
   "execution_count": 217,
   "metadata": {},
   "outputs": [
    {
     "data": {
      "text/plain": [
       "False"
      ]
     },
     "execution_count": 217,
     "metadata": {},
     "output_type": "execute_result"
    }
   ],
   "source": [
    "boolen = None\n",
    "\n",
    "if 'List[str]'.find(\"List\")==-1:\n",
    "    boolen = True\n",
    "else:\n",
    "    boolen = False\n",
    "boolen"
   ]
  },
  {
   "cell_type": "code",
   "execution_count": 218,
   "metadata": {},
   "outputs": [
    {
     "data": {
      "text/plain": [
       "{'arg1': 'str',\n",
       " 'arg2': 'Optional[List[str]]',\n",
       " 'arg3': \"Literal['A', 'B']\",\n",
       " 'arg4': \"Union[str, Literal['A', 'B']]\",\n",
       " 'return': 'str'}"
      ]
     },
     "execution_count": 218,
     "metadata": {},
     "output_type": "execute_result"
    }
   ],
   "source": [
    "type_hints"
   ]
  },
  {
   "cell_type": "code",
   "execution_count": 219,
   "metadata": {},
   "outputs": [
    {
     "data": {
      "text/plain": [
       "typing.Optional[str]"
      ]
     },
     "execution_count": 219,
     "metadata": {},
     "output_type": "execute_result"
    }
   ],
   "source": [
    "Optional[Optional[str]]"
   ]
  },
  {
   "cell_type": "code",
   "execution_count": null,
   "metadata": {},
   "outputs": [],
   "source": [
    "return_prop = converted.pop( 'return')"
   ]
  },
  {
   "cell_type": "code",
   "execution_count": 220,
   "metadata": {},
   "outputs": [],
   "source": [
    "\n",
    "def post_Optional(key, value):\n",
    "    if value[-1] == \"?\":\n",
    "        key = key + \"?\"\n",
    "        value = value[:-1]\n",
    "    return key, value\n",
    "\n",
    "post_processors = [post_Optional]\n"
   ]
  },
  {
   "cell_type": "code",
   "execution_count": 221,
   "metadata": {},
   "outputs": [],
   "source": [
    "def convert_python_to_typescript(type_hints:Dict[str, str], post_processors=post_processors)->Dict[str, str]:\n",
    "    converted = {}\n",
    "    for key, value in type_hints.items():\n",
    "        value = map_python_to_typescript(value)\n",
    "        for post_processor in post_processors:\n",
    "            key, value = post_processor(key, value)\n",
    "        converted[key] = value\n",
    "    return converted"
   ]
  },
  {
   "cell_type": "code",
   "execution_count": 222,
   "metadata": {},
   "outputs": [
    {
     "data": {
      "text/plain": [
       "{'arg1': 'string',\n",
       " 'arg2?': 'string[]',\n",
       " 'arg3': \"'A' |  'B'\",\n",
       " 'arg4': \"string |  'A' |  'B'\",\n",
       " 'return': 'string'}"
      ]
     },
     "execution_count": 222,
     "metadata": {},
     "output_type": "execute_result"
    }
   ],
   "source": [
    "converted = convert_python_to_typescript(type_hints=type_hints)\n",
    "converted"
   ]
  },
  {
   "cell_type": "code",
   "execution_count": 223,
   "metadata": {},
   "outputs": [
    {
     "data": {
      "text/plain": [
       "{'arg1': 'string',\n",
       " 'arg2?': 'string[]',\n",
       " 'arg3': \"'A' |  'B'\",\n",
       " 'arg4': \"string |  'A' |  'B'\",\n",
       " 'return': 'string'}"
      ]
     },
     "execution_count": 223,
     "metadata": {},
     "output_type": "execute_result"
    }
   ],
   "source": [
    "converted"
   ]
  },
  {
   "cell_type": "code",
   "execution_count": 237,
   "metadata": {},
   "outputs": [],
   "source": []
  },
  {
   "cell_type": "code",
   "execution_count": 247,
   "metadata": {},
   "outputs": [],
   "source": []
  },
  {
   "cell_type": "code",
   "execution_count": 248,
   "metadata": {},
   "outputs": [
    {
     "data": {
      "text/plain": [
       "True"
      ]
     },
     "execution_count": 248,
     "metadata": {},
     "output_type": "execute_result"
    }
   ],
   "source": []
  },
  {
   "cell_type": "code",
   "execution_count": 239,
   "metadata": {},
   "outputs": [
    {
     "data": {
      "text/plain": [
       "'string'"
      ]
     },
     "execution_count": 239,
     "metadata": {},
     "output_type": "execute_result"
    }
   ],
   "source": []
  },
  {
   "cell_type": "code",
   "execution_count": 238,
   "metadata": {},
   "outputs": [
    {
     "data": {
      "text/plain": [
       "{'arg1': 'string',\n",
       " 'arg2?': 'string[]',\n",
       " 'arg3': \"'A' |  'B'\",\n",
       " 'arg4': \"string |  'A' |  'B'\"}"
      ]
     },
     "execution_count": 238,
     "metadata": {},
     "output_type": "execute_result"
    }
   ],
   "source": [
    "converted"
   ]
  },
  {
   "cell_type": "code",
   "execution_count": null,
   "metadata": {},
   "outputs": [],
   "source": []
  },
  {
   "cell_type": "code",
   "execution_count": 224,
   "metadata": {},
   "outputs": [],
   "source": [
    "def convert_dict_to_string(dict):\n",
    "    text = \"{\\n\"\n",
    "    for key, value in dict.items():\n",
    "        text = text + f\"\\t{key}: {value}; \\n\"\n",
    "    text = text + \"}\"\n",
    "    return text"
   ]
  },
  {
   "cell_type": "code",
   "execution_count": null,
   "metadata": {},
   "outputs": [],
   "source": []
  },
  {
   "cell_type": "code",
   "execution_count": 252,
   "metadata": {},
   "outputs": [
    {
     "data": {
      "text/plain": [
       "''"
      ]
     },
     "execution_count": 252,
     "metadata": {},
     "output_type": "execute_result"
    }
   ],
   "source": [
    "\n",
    "\n",
    "is_return_prop_type = isinstance(type, type(get_type_hints(with_typehint)['return']))\n",
    "\n",
    "return_interface = \"\"\n",
    "\n",
    "if is_return_prop_type is False:\n",
    "    return_interface = convert_dict_to_string(return_prop)\n",
    "\n",
    "return_interface"
   ]
  },
  {
   "cell_type": "code",
   "execution_count": null,
   "metadata": {},
   "outputs": [],
   "source": []
  },
  {
   "cell_type": "code",
   "execution_count": 240,
   "metadata": {},
   "outputs": [
    {
     "name": "stdout",
     "output_type": "stream",
     "text": [
      "{\n",
      "\targ1: string; \n",
      "\targ2?: string[]; \n",
      "\targ3: 'A' |  'B'; \n",
      "\targ4: string |  'A' |  'B'; \n",
      "}\n"
     ]
    }
   ],
   "source": [
    "print(convert_dict_to_string(converted))"
   ]
  },
  {
   "cell_type": "code",
   "execution_count": 226,
   "metadata": {},
   "outputs": [],
   "source": [
    "def convert(func_name, type_hints):\n",
    "    typescript_form = convert_python_to_typescript(type_hints)\n",
    "    string_form = convert_dict_to_string(typescript_form)\n",
    "    string_form = f\"interface {func_name}Props \" + string_form\n",
    "    return string_form"
   ]
  },
  {
   "cell_type": "code",
   "execution_count": 227,
   "metadata": {},
   "outputs": [
    {
     "name": "stdout",
     "output_type": "stream",
     "text": [
      "interface MyFunctionProps {\n",
      "\targ1: string; \n",
      "\targ2?: string[]; \n",
      "\targ3: 'A' |  'B'; \n",
      "\targ4: string |  'A' |  'B'; \n",
      "\treturn: string; \n",
      "}\n"
     ]
    }
   ],
   "source": [
    "print(convert(\"MyFunction\", type_hints=type_hints))"
   ]
  },
  {
   "cell_type": "code",
   "execution_count": 271,
   "metadata": {},
   "outputs": [
    {
     "data": {
      "text/plain": [
       "{'arg1': 'Hello world',\n",
       " 'arg2': ['hi', 'buy'],\n",
       " 'arg3': 'A',\n",
       " 'arg4': 'I am boring.'}"
      ]
     },
     "execution_count": 271,
     "metadata": {},
     "output_type": "execute_result"
    }
   ],
   "source": [
    "story.kwargs"
   ]
  },
  {
   "cell_type": "code",
   "execution_count": null,
   "metadata": {},
   "outputs": [],
   "source": []
  },
  {
   "cell_type": "code",
   "execution_count": 316,
   "metadata": {},
   "outputs": [],
   "source": [
    "def convert_dict_to_string2(dict):\n",
    "    text = \"{\\n\"\n",
    "    for key, value in dict.items():\n",
    "        if isinstance(value, str):\n",
    "            value = '\"' + value + '\"'\n",
    "        text = text + f\"\\t{key}: {value}, \\n\"\n",
    "    text = text + \"}\"\n",
    "    return text"
   ]
  },
  {
   "cell_type": "code",
   "execution_count": 317,
   "metadata": {},
   "outputs": [],
   "source": [
    "converted_kwarg = convert_dict_to_string2(story.kwargs)"
   ]
  },
  {
   "cell_type": "code",
   "execution_count": 318,
   "metadata": {},
   "outputs": [
    {
     "data": {
      "text/plain": [
       "'{\\n\\targ1: \"Hello world\", \\n\\targ2: [\\'hi\\', \\'buy\\'], \\n\\targ3: \"A\", \\n\\targ4: \"I am boring.\", \\n}'"
      ]
     },
     "execution_count": 318,
     "metadata": {},
     "output_type": "execute_result"
    }
   ],
   "source": [
    "converted_kwarg"
   ]
  },
  {
   "cell_type": "code",
   "execution_count": null,
   "metadata": {},
   "outputs": [],
   "source": []
  },
  {
   "cell_type": "code",
   "execution_count": 301,
   "metadata": {},
   "outputs": [
    {
     "name": "stdout",
     "output_type": "stream",
     "text": [
      "{\n",
      "\targ1: \"Hello world\"; \n",
      "\targ2: ['hi', 'buy']; \n",
      "\targ3: \"A\"; \n",
      "\targ4: \"I am boring.\"; \n",
      "}\n"
     ]
    }
   ],
   "source": [
    "print(converted_kwarg)"
   ]
  },
  {
   "cell_type": "code",
   "execution_count": 319,
   "metadata": {},
   "outputs": [],
   "source": [
    "def generate_function_string(function_name:str, kwargs:Dict[str,Any], return_prop):\n",
    "    converted_kwarg = convert_dict_to_string2(kwargs)\n",
    "    template = 'const {function_name} = ( inputs: {function_name}Props = {converted_kwarg}): {return_prop} => '\n",
    "    formatted = template.format(function_name=function_name, converted_kwarg=converted_kwarg, return_prop=return_prop)\n",
    "    return formatted + r'{ return \"hi\" }'"
   ]
  },
  {
   "cell_type": "code",
   "execution_count": null,
   "metadata": {},
   "outputs": [],
   "source": []
  },
  {
   "cell_type": "code",
   "execution_count": null,
   "metadata": {},
   "outputs": [],
   "source": []
  },
  {
   "cell_type": "code",
   "execution_count": null,
   "metadata": {},
   "outputs": [],
   "source": []
  },
  {
   "cell_type": "code",
   "execution_count": 320,
   "metadata": {},
   "outputs": [
    {
     "name": "stdout",
     "output_type": "stream",
     "text": [
      "const MyFunction = ( inputs: MyFunctionProps = {\n",
      "\targ1: \"Hello world\", \n",
      "\targ2: ['hi', 'buy'], \n",
      "\targ3: \"A\", \n",
      "\targ4: \"I am boring.\", \n",
      "}): string => { return \"hi\" }\n"
     ]
    }
   ],
   "source": [
    "print(generate_function_string(\"MyFunction\", story.kwargs, \"string\"))"
   ]
  },
  {
   "cell_type": "markdown",
   "metadata": {},
   "source": [
    "interface MyFunctionReturn {\n",
    "    [key: string]:  any \n",
    "}\n",
    "\n",
    "const MyFunction2 = (\n",
    "    inputs: MyFunctionProps2 = {\n",
    "        arg1: 'defaultString',\n",
    "        arg2: ['default1', 'default2'],\n",
    "        arg3: 'A',\n",
    "        arg4: 'B'\n",
    "    }\n",
    "): string => {\n",
    "    return \"{ hi: 1 }\";\n",
    "};\n"
   ]
  },
  {
   "cell_type": "code",
   "execution_count": null,
   "metadata": {},
   "outputs": [],
   "source": []
  },
  {
   "cell_type": "code",
   "execution_count": 228,
   "metadata": {},
   "outputs": [
    {
     "data": {
      "text/plain": [
       "{'arg1': 'Hello world', 'arg3': 'A'}"
      ]
     },
     "execution_count": 228,
     "metadata": {},
     "output_type": "execute_result"
    }
   ],
   "source": [
    "story.kwargs"
   ]
  },
  {
   "cell_type": "code",
   "execution_count": null,
   "metadata": {},
   "outputs": [],
   "source": []
  }
 ],
 "metadata": {
  "kernelspec": {
   "display_name": "development",
   "language": "python",
   "name": "python3"
  },
  "language_info": {
   "codemirror_mode": {
    "name": "ipython",
    "version": 3
   },
   "file_extension": ".py",
   "mimetype": "text/x-python",
   "name": "python",
   "nbconvert_exporter": "python",
   "pygments_lexer": "ipython3",
   "version": "3.11.9"
  }
 },
 "nbformat": 4,
 "nbformat_minor": 2
}
