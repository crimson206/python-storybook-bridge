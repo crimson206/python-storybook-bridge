{
 "cells": [
  {
   "cell_type": "markdown",
   "metadata": {},
   "source": [
    "```plaintext\n",
    "Data Type\tControl\tDescription\n",
    "boolean\tboolean\tProvides a toggle for switching between possible states.\n",
    "argTypes: { active: { control: 'boolean' }}\n",
    "number\tnumber\tProvides a numeric input to include the range of all possible values.\n",
    "argTypes: { even: { control: { type: 'number', min:1, max:30, step: 2 } }}\n",
    "range\tProvides a range slider component to include all possible values.\n",
    "argTypes: { odd: { control: { type: 'range', min: 1, max: 30, step: 3 } }}\n",
    "object\tobject\tProvides a JSON-based editor component to handle the object's values.\n",
    "Also allows edition in raw mode.\n",
    "argTypes: { user: { control: 'object' }}\n",
    "array\tobject\tProvides a JSON-based editor component to handle the array's values.\n",
    "Also allows edition in raw mode.\n",
    "argTypes: { odd: { control: 'object' }}\n",
    "file\tProvides a file input component that returns an array of URLs.\n",
    "Can be further customized to accept specific file types.\n",
    "argTypes: { avatar: { control: { type: 'file', accept: '.png' } }}\n",
    "enum\tradio\tProvides a set of radio buttons based on the available options.\n",
    "argTypes: { contact: { control: 'radio', options: ['email', 'phone', 'mail'] }}\n",
    "inline-radio\tProvides a set of inlined radio buttons based on the available options.\n",
    "argTypes: { contact: { control: 'inline-radio', options: ['email', 'phone', 'mail'] }}\n",
    "check\tProvides a set of checkbox components for selecting multiple options.\n",
    "argTypes: { contact: { control: 'check', options: ['email', 'phone', 'mail'] }}\n",
    "inline-check\tProvides a set of inlined checkbox components for selecting multiple options.\n",
    "argTypes: { contact: { control: 'inline-check', options: ['email', 'phone', 'mail'] }}\n",
    "select\tProvides a drop-down list component to handle single value selection. argTypes: { age: { control: 'select', options: [20, 30, 40, 50] }}\n",
    "multi-select\tProvides a drop-down list that allows multiple selected values. argTypes: { countries: { control: 'multi-select', options: ['USA', 'Canada', 'Mexico'] }}\n",
    "string\ttext\tProvides a freeform text input.\n",
    "argTypes: { label: { control: 'text' }}\n",
    "color\tProvides a color picker component to handle color values.\n",
    "Can be additionally configured to include a set of color presets.\n",
    "argTypes: { color: { control: { type: 'color', presetColors: ['red', 'green']} }}\n",
    "date\tProvides a datepicker component to handle date selection. argTypes: { startDate: { control: 'date' }}\n",
    "```"
   ]
  },
  {
   "cell_type": "markdown",
   "metadata": {},
   "source": [
    "```tsx\n",
    "{\n",
    "    active: { control: 'boolean' },\n",
    "    even: { control: { type: 'number', min:2, max:30, step: 2 } },\n",
    "    number_no_step: { control: { type: 'number', min:2, max:30 } },\n",
    "    number_micro_step: { control: { type: 'number', min:2, max:30, step: 0.1 } },\n",
    "    odd: { control: { type: 'range', min: 1, max: 39, step: 2 } },\n",
    "    range_no_step: { control: { type: 'range', min: 1, max: 39 } },\n",
    "    range_micro_step: { control: { type: 'range', min: 1, max: 39, step: 0.1 } },\n",
    "    user: { control: 'object' },\n",
    "    avatar: { control: { type: 'file', accept: '.png' } },\n",
    "    contact: { control: 'radio', options: ['email', 'phone', 'mail'] },\n",
    "    contact_inline: { control: 'inline-radio', options: ['email', 'phone', 'mail'] },\n",
    "    contact_check: { control: 'check', options: ['email', 'phone', 'mail'] },\n",
    "    age: { control: 'select', options: [20, 30, 40, 50] },\n",
    "    countries: { control: 'multi-select', options: ['USA', 'Canada', 'Mexico'] },\n",
    "    label: { control: 'text' },\n",
    "    color: { control: { type: 'color', presetColors: ['red', 'green']} },\n",
    "    startDate: { control: 'date' },\n",
    "}\n",
    "```"
   ]
  },
  {
   "cell_type": "code",
   "execution_count": null,
   "metadata": {},
   "outputs": [],
   "source": [
    "controls = [\n",
    "    'boolean',\n",
    "    'number',\n",
    "    'range',\n",
    "    'object',\n",
    "    'file',\n",
    "    'radio',\n",
    "    'select',\n",
    "    'multiselect',\n",
    "    'text',\n",
    "]"
   ]
  },
  {
   "cell_type": "markdown",
   "metadata": {},
   "source": [
    "```tsx\n",
    "type Control = ControlType | false | (ControlBase & (ControlBase | {\n",
    "    type: 'color';\n",
    "    /**\n",
    "     * @see https://storybook.js.org/docs/api/arg-types#controlpresetcolors\n",
    "     */\n",
    "    presetColors?: string[];\n",
    "} | {\n",
    "    type: 'file';\n",
    "    /**\n",
    "     * @see https://storybook.js.org/docs/api/arg-types#controlaccept\n",
    "     */\n",
    "    accept?: string;\n",
    "} | {\n",
    "    type: 'inline-check' | 'radio' | 'inline-radio' | 'select' | 'multi-select';\n",
    "    /**\n",
    "     * @see https://storybook.js.org/docs/api/arg-types#controllabels\n",
    "     */\n",
    "    labels?: {\n",
    "        [options: string]: string;\n",
    "    };\n",
    "} | {\n",
    "    type: 'number' | 'range';\n",
    "    /**\n",
    "     * @see https://storybook.js.org/docs/api/arg-types#controlmax\n",
    "     */\n",
    "    max?: number;\n",
    "    /**\n",
    "     * @see https://storybook.js.org/docs/api/arg-types#controlmin\n",
    "     */\n",
    "    min?: number;\n",
    "    /**\n",
    "     * @see https://storybook.js.org/docs/api/arg-types#controlstep\n",
    "     */\n",
    "    step?: number;\n",
    "}));\n",
    "```"
   ]
  },
  {
   "cell_type": "markdown",
   "metadata": {},
   "source": []
  },
  {
   "cell_type": "code",
   "execution_count": 77,
   "metadata": {},
   "outputs": [],
   "source": [
    "from typing import List, Dict, Union, Literal, get_type_hints, Union, Any, Callable\n",
    "import inspect\n",
    "\n",
    "# 정수 리스트를 나타내는 타입 에일리어스\n",
    "IntList = List[int]\n",
    "\n",
    "# 사용자 정보를 나타내는 딕셔너리 타입 에일리어스\n",
    "UserInfo = Dict[str, Union[str, int, float]]\n",
    "\n",
    "def process_numbers(numbers: IntList) -> int:\n",
    "    return sum(numbers)\n",
    "\n",
    "def user_greeting(user: UserInfo) -> str:\n",
    "    return f\"Hello, {user['name']}!\"\n",
    "\n"
   ]
  },
  {
   "cell_type": "code",
   "execution_count": 2,
   "metadata": {},
   "outputs": [],
   "source": [
    "from pydantic import BaseModel\n"
   ]
  },
  {
   "cell_type": "code",
   "execution_count": 119,
   "metadata": {},
   "outputs": [],
   "source": [
    "from python_storybook.core import StoryManager, StoryHub\n",
    "\n",
    "story_manager = StoryManager(title='Example')\n",
    "\n",
    "def my_func(selections:Literal[1, 2, 3], range:int=20):\n",
    "    return selections[1]\n",
    "\n",
    "story_manager.create_story(\n",
    "    func=my_func    \n",
    ")"
   ]
  },
  {
   "cell_type": "code",
   "execution_count": 120,
   "metadata": {},
   "outputs": [
    {
     "data": {
      "text/plain": [
       "{'title': 'Example',\n",
       " 'name': 'my_func',\n",
       " 'func_name': 'my_func',\n",
       " 'docs': None,\n",
       " 'type_hints': {'selections': 'Literal[1, 2, 3]', 'range': 'int'},\n",
       " 'result': None}"
      ]
     },
     "execution_count": 120,
     "metadata": {},
     "output_type": "execute_result"
    }
   ],
   "source": [
    "StoryHub.get_story_meta(story_manager.get_stories()[0]).model_dump()"
   ]
  },
  {
   "cell_type": "code",
   "execution_count": 121,
   "metadata": {},
   "outputs": [],
   "source": [
    "type_hints = StoryHub.get_story_meta(story_manager.get_stories()[0]).type_hints"
   ]
  },
  {
   "cell_type": "code",
   "execution_count": 122,
   "metadata": {},
   "outputs": [
    {
     "data": {
      "text/plain": [
       "{'selections': 'Literal[1, 2, 3]', 'range': 'int'}"
      ]
     },
     "execution_count": 122,
     "metadata": {},
     "output_type": "execute_result"
    }
   ],
   "source": [
    "type_hints"
   ]
  },
  {
   "cell_type": "code",
   "execution_count": 193,
   "metadata": {},
   "outputs": [],
   "source": [
    "from typing import Any\n",
    "\n",
    "\n",
    "class _Enum(BaseModel):\n",
    "    Parent: str=\"Control.Enum.\"\n",
    "    Check: str=f\"{Parent}Check\"\n",
    "    InlineCheck : str=f\"{Parent}InlineCheck\"\n",
    "    Radio: str=f\"{Parent}Radio\"\n",
    "    InlineRadio: str=f\"{Parent}InlineRadio\"\n",
    "    Select: str=f\"{Parent}Select\"\n",
    "    MultiSelect: str=f\"{Parent}MultiSelect\"\n",
    "\n",
    "class _Number:\n",
    "    Parent: str=\"Control.Number.\"\n",
    "    \n",
    "    @staticmethod\n",
    "    def Number(min:int, max:int, step:float=1):\n",
    "        return {'type':f\"{_Number.Parent}/Number\", 'min':min, 'max':max, 'step':step}\n",
    "\n",
    "    @staticmethod\n",
    "    def Range(min:int, max:int, step:float=1):\n",
    "        return {'type':f\"{_Number.Parent}/Range\", 'min':min, 'max':max, 'step':step}"
   ]
  },
  {
   "cell_type": "code",
   "execution_count": 194,
   "metadata": {},
   "outputs": [],
   "source": [
    "class Control:\n",
    "    Enum = _Enum()\n",
    "    Number = _Number()"
   ]
  },
  {
   "cell_type": "code",
   "execution_count": 195,
   "metadata": {},
   "outputs": [
    {
     "data": {
      "text/plain": [
       "('Control.Enum.Check',\n",
       " {'type': 'Control.Number./Number', 'min': 1, 'max': 10, 'step': 2})"
      ]
     },
     "execution_count": 195,
     "metadata": {},
     "output_type": "execute_result"
    }
   ],
   "source": [
    "Control.Enum.Check, Control.Number.Number(1, 10, 2)"
   ]
  }
 ],
 "metadata": {
  "kernelspec": {
   "display_name": "development",
   "language": "python",
   "name": "python3"
  },
  "language_info": {
   "codemirror_mode": {
    "name": "ipython",
    "version": 3
   },
   "file_extension": ".py",
   "mimetype": "text/x-python",
   "name": "python",
   "nbconvert_exporter": "python",
   "pygments_lexer": "ipython3",
   "version": "3.11.9"
  }
 },
 "nbformat": 4,
 "nbformat_minor": 2
}
