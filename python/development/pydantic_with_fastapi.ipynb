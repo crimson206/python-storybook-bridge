{
 "cells": [
  {
   "cell_type": "code",
   "execution_count": 19,
   "metadata": {},
   "outputs": [],
   "source": [
    "from pydantic import BaseModel\n",
    "from fastapi.middleware.cors import CORSMiddleware\n",
    "from typing import List, Any, Dict, Literal, Optional, Union\n",
    "from fastapi import FastAPI\n",
    "\n",
    "\n",
    "def with_typehint(\n",
    "    arg1: str,\n",
    "    arg2: Optional[List[str]],\n",
    "    arg3: Literal[\"A\", \"B\"],\n",
    "    arg4: Union[str, Literal[\"A\", \"B\"]],\n",
    ") -> Dict[str, Any]:\n",
    "    '''Some Documentation.'''\n",
    "    return {\"string\": [1, \"another string\"]}\n",
    "\n",
    "\n",
    "class WithTypehintInput(BaseModel):\n",
    "    arg1: str\n",
    "    arg2: Optional[List[str]]\n",
    "    arg3: Literal[\"A\", \"B\"]\n",
    "    arg4: Union[str, Literal[\"A\", \"B\"]]\n",
    "\n",
    "\n",
    "class WithTypehintOut(BaseModel):\n",
    "    body: Dict[str, Any]\n",
    "\n",
    "\n",
    "app = FastAPI(\n",
    "    title=\"My Sample API\",\n",
    "    description=\"This is a sample API to demonstrate basic FastAPI functionality.\",\n",
    "    version=\"1.0.0\",\n",
    "    terms_of_service=\"http://example.com/terms/\",\n",
    "    contact={\n",
    "        \"name\": \"Support Team\",\n",
    "        \"url\": \"http://example.com/contact/\",\n",
    "        \"email\": \"support@example.com\",\n",
    "    },\n",
    "    license_info={\n",
    "        \"name\": \"Apache 2.0\",\n",
    "        \"url\": \"https://www.apache.org/licenses/LICENSE-2.0.html\",\n",
    "    },\n",
    "    ## servers=[\n",
    "    ##    {\"url\": \"https://ubiquitous-guacamole-rq6px7ww7wwhjgv-8080.app.github.dev\", \"description\": \"Primary API server\"},\n",
    "    ##    {\"url\": \"https://development.example.com/api\", \"description\": \"Development API server\"}\n",
    "    ## ]\n",
    ")\n",
    "\n",
    "app.add_middleware(\n",
    "    CORSMiddleware,\n",
    "    allow_origins=[\"*\"],  # 모든 도메인에서의 요청을 허용\n",
    "    allow_credentials=True,\n",
    "    allow_methods=[\"*\"],  # 모든 HTTP 메서드를 허용\n",
    "    allow_headers=[\"*\"],  # 모든 헤더를 허용\n",
    ")\n",
    "\n",
    "\n",
    "@app.post(\"/process_input\", response_model=WithTypehintOut)\n",
    "async def process_input(input_prop: WithTypehintInput):\n",
    "    output = with_typehint(**input_prop.model_dump())\n",
    "    return {\"body\": output}\n",
    "\n",
    "import inspect\n",
    "\n",
    "@app.get(\"/get_source\", response_model=str)\n",
    "async def process_input():\n",
    "    source_code = inspect.getsource(with_typehint)\n",
    "    return source_code\n"
   ]
  },
  {
   "cell_type": "code",
   "execution_count": 11,
   "metadata": {},
   "outputs": [
    {
     "data": {
      "text/plain": [
       "{'openapi': '3.1.0',\n",
       " 'info': {'title': 'My Sample API',\n",
       "  'description': 'This is a sample API to demonstrate basic FastAPI functionality.',\n",
       "  'termsOfService': 'http://example.com/terms/',\n",
       "  'contact': {'name': 'Support Team',\n",
       "   'url': 'http://example.com/contact/',\n",
       "   'email': 'support@example.com'},\n",
       "  'license': {'name': 'Apache 2.0',\n",
       "   'url': 'https://www.apache.org/licenses/LICENSE-2.0.html'},\n",
       "  'version': '1.0.0'},\n",
       " 'paths': {'/process_input': {'post': {'summary': 'Process Input',\n",
       "    'operationId': 'process_input_process_input_post',\n",
       "    'requestBody': {'content': {'application/json': {'schema': {'$ref': '#/components/schemas/WithTypehintInput'}}},\n",
       "     'required': True},\n",
       "    'responses': {'200': {'description': 'Successful Response',\n",
       "      'content': {'application/json': {'schema': {'$ref': '#/components/schemas/WithTypehintOut'}}}},\n",
       "     '422': {'description': 'Validation Error',\n",
       "      'content': {'application/json': {'schema': {'$ref': '#/components/schemas/HTTPValidationError'}}}}}}}},\n",
       " 'components': {'schemas': {'HTTPValidationError': {'properties': {'detail': {'items': {'$ref': '#/components/schemas/ValidationError'},\n",
       "      'type': 'array',\n",
       "      'title': 'Detail'}},\n",
       "    'type': 'object',\n",
       "    'title': 'HTTPValidationError'},\n",
       "   'ValidationError': {'properties': {'loc': {'items': {'anyOf': [{'type': 'string'},\n",
       "        {'type': 'integer'}]},\n",
       "      'type': 'array',\n",
       "      'title': 'Location'},\n",
       "     'msg': {'type': 'string', 'title': 'Message'},\n",
       "     'type': {'type': 'string', 'title': 'Error Type'}},\n",
       "    'type': 'object',\n",
       "    'required': ['loc', 'msg', 'type'],\n",
       "    'title': 'ValidationError'},\n",
       "   'WithTypehintInput': {'properties': {'arg1': {'type': 'string',\n",
       "      'title': 'Arg1'},\n",
       "     'arg2': {'anyOf': [{'items': {'type': 'string'}, 'type': 'array'},\n",
       "       {'type': 'null'}],\n",
       "      'title': 'Arg2'},\n",
       "     'arg3': {'type': 'string', 'enum': ['A', 'B'], 'title': 'Arg3'},\n",
       "     'arg4': {'anyOf': [{'type': 'string'},\n",
       "       {'type': 'string', 'enum': ['A', 'B']}],\n",
       "      'title': 'Arg4'}},\n",
       "    'type': 'object',\n",
       "    'required': ['arg1', 'arg2', 'arg3', 'arg4'],\n",
       "    'title': 'WithTypehintInput'},\n",
       "   'WithTypehintOut': {'properties': {'body': {'type': 'object',\n",
       "      'title': 'Body'}},\n",
       "    'type': 'object',\n",
       "    'required': ['body'],\n",
       "    'title': 'WithTypehintOut'}}}}"
      ]
     },
     "execution_count": 11,
     "metadata": {},
     "output_type": "execute_result"
    }
   ],
   "source": [
    "app.openapi()"
   ]
  },
  {
   "cell_type": "code",
   "execution_count": 25,
   "metadata": {},
   "outputs": [
    {
     "data": {
      "text/plain": [
       "'def with_typehint(\\n    arg1: str,\\n    arg2: Optional[List[str]],\\n    arg3: Literal[\"A\", \"B\"],\\n    arg4: Union[str, Literal[\"A\", \"B\"]],\\n) -> Dict[str, Any]:\\n    \\'\\'\\'Some Documentation.\\'\\'\\'\\n    return {\"string\": [1, \"another string\"]}\\n'"
      ]
     },
     "execution_count": 25,
     "metadata": {},
     "output_type": "execute_result"
    }
   ],
   "source": [
    "\n",
    "\n",
    "source_code = inspect.getsource(with_typehint)\n",
    "source_code"
   ]
  },
  {
   "cell_type": "code",
   "execution_count": 21,
   "metadata": {},
   "outputs": [],
   "source": [
    "from python_storybook.core import StoryManager, StoryHub\n",
    "\n",
    "story_manager = StoryManager(title='Example')\n",
    "\n",
    "story_manager.create_story(\n",
    "    func=with_typehint\n",
    ")"
   ]
  },
  {
   "cell_type": "code",
   "execution_count": 22,
   "metadata": {},
   "outputs": [],
   "source": [
    "story_meta = StoryHub.get_story_meta(story_manager.get_stories()[0])"
   ]
  },
  {
   "cell_type": "code",
   "execution_count": 23,
   "metadata": {},
   "outputs": [
    {
     "data": {
      "text/plain": [
       "{'title': 'Example',\n",
       " 'name': 'with_typehint',\n",
       " 'func_name': 'with_typehint',\n",
       " 'docs': 'Some Documentation.',\n",
       " 'type_hints': {'arg1': 'str',\n",
       "  'arg2': 'Optional[List[str]]',\n",
       "  'arg3': \"Literal['A', 'B']\",\n",
       "  'arg4': \"Union[str, Literal['A', 'B']]\",\n",
       "  'return': 'Dict[str, Any]'},\n",
       " 'result': None}"
      ]
     },
     "execution_count": 23,
     "metadata": {},
     "output_type": "execute_result"
    }
   ],
   "source": [
    "story_meta.model_dump()"
   ]
  }
 ],
 "metadata": {
  "kernelspec": {
   "display_name": "development",
   "language": "python",
   "name": "python3"
  },
  "language_info": {
   "codemirror_mode": {
    "name": "ipython",
    "version": 3
   },
   "file_extension": ".py",
   "mimetype": "text/x-python",
   "name": "python",
   "nbconvert_exporter": "python",
   "pygments_lexer": "ipython3",
   "version": "3.11.9"
  }
 },
 "nbformat": 4,
 "nbformat_minor": 2
}
